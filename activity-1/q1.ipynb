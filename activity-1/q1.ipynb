{
 "cells": [
  {
   "cell_type": "markdown",
   "id": "billion-cache",
   "metadata": {},
   "source": [
    "# EXERCÍCIO 1"
   ]
  },
  {
   "cell_type": "markdown",
   "id": "beginning-seating",
   "metadata": {},
   "source": [
    "Fazer uma função que recebe como parâmetro o número do concurso da megasena e retorna um dict com o número do concurso como chave e as dezenas sorteadas como Array de valores. Exemplo: {2340: [16, 20, 30, 01, 20, 2]}. A URL que deve ser usada é a https://www.loteriaseresultados.com.br/index.php/megasena/concurso/\"concurso\", onde \"concurso\" é o número desejado. Persista o retorno da função como um documento no mongodb, no banco concursos, coleção megasena. Não precisa ser o banco com os documentos megasena importados do csv, mas um banco vazio com uma coleção vazia que você crie apenas para o exercício."
   ]
  },
  {
   "cell_type": "code",
   "execution_count": 2,
   "id": "quick-narrow",
   "metadata": {},
   "outputs": [
    {
     "name": "stdout",
     "output_type": "stream",
     "text": [
      "Número do concurso: 2130\n",
      "\n",
      "Documento inserido com sucesso...\n"
     ]
    }
   ],
   "source": [
    "import time\n",
    "from selenium import webdriver\n",
    "from bs4 import BeautifulSoup as soup\n",
    "\n",
    "# Pegar número do concurso\n",
    "numConcurso = input(\"Número do concurso: \")\n",
    "\n",
    "# Fazer a raspagem dos dados\n",
    "url = 'https://www.loteriaseresultados.com.br/index.php/megasena/concurso/'+numConcurso\n",
    "driver = webdriver.Firefox()\n",
    "driver.get(url)\n",
    "\n",
    "# tempo para página carregar\n",
    "time.sleep(15)\n",
    "\n",
    "# Pegando valores das dezenas sorteadas\n",
    "content = driver.find_elements_by_css_selector(\"span[class='white--text font-weight-bold']\")\n",
    "valores = []\n",
    "for n in range(6):\n",
    "    valores.insert(n, content[n].get_attribute('innerHTML'))\n",
    "\n",
    "driver.close()\n",
    "\n",
    "#Armazenar retorno da função no mongodb\n",
    "from pymongo import MongoClient\n",
    "localConn = MongoClient('mongodb://127.0.0.1:27017')\n",
    "\n",
    "db = localConn.concursos \n",
    "tb = db.megasena \n",
    "\n",
    "for i in range(6): valores[i] = int(valores[i])\n",
    "\n",
    "data = {'Concurso': numConcurso, 'Dezenas Sorteadas': valores}\n",
    "\n",
    "tb.insert_one(data)\n",
    "print('\\nDocumento inserido com sucesso...')\n",
    "localConn.close()"
   ]
  },
  {
   "cell_type": "code",
   "execution_count": 3,
   "id": "novel-prompt",
   "metadata": {},
   "outputs": [
    {
     "name": "stdout",
     "output_type": "stream",
     "text": [
      "                        _id Concurso         Dezenas Sorteadas\n",
      "0  6048d76c6a2f8bf63c3b0847     2340  [16, 21, 28, 41, 49, 51]\n",
      "1  6048d7c16a2f8bf63c3b0849     2343   [4, 31, 42, 45, 49, 56]\n",
      "2  6048d88d6a2f8bf63c3b084d     2333   [9, 16, 31, 41, 53, 55]\n",
      "3  6048d8d46a2f8bf63c3b084f     2222  [13, 14, 29, 30, 48, 59]\n",
      "4  6048d9636a2f8bf63c3b0851     2345   [7, 16, 19, 22, 28, 55]\n",
      "5  6048dd38df49524e1c09807b     2344  [11, 17, 25, 38, 52, 57]\n",
      "6  6048dd5fdf49524e1c09807d     2346    [3, 4, 11, 40, 42, 58]\n",
      "7  604ba8797d84335bf49f1098     2130  [13, 16, 36, 53, 54, 55]\n"
     ]
    }
   ],
   "source": [
    "#Exibir documentos\n",
    "\n",
    "data = list(tb.find({}))\n",
    "\n",
    "import pandas as pd\n",
    "df = pd.DataFrame(data)\n",
    "print(df)"
   ]
  }
 ],
 "metadata": {
  "kernelspec": {
   "display_name": "Python 3",
   "language": "python",
   "name": "python3"
  },
  "language_info": {
   "codemirror_mode": {
    "name": "ipython",
    "version": 3
   },
   "file_extension": ".py",
   "mimetype": "text/x-python",
   "name": "python",
   "nbconvert_exporter": "python",
   "pygments_lexer": "ipython3",
   "version": "3.9.1"
  }
 },
 "nbformat": 4,
 "nbformat_minor": 5
}
