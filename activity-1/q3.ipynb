{
 "cells": [
  {
   "cell_type": "markdown",
   "id": "muslim-jurisdiction",
   "metadata": {},
   "source": [
    "# EXERCÍCIO 3"
   ]
  },
  {
   "cell_type": "markdown",
   "id": "front-brush",
   "metadata": {},
   "source": [
    "Acesse o site de notícias da UFRN, percorrendo automaticamente todas as páginas com o filtro EAJ e a) construa a nuvem de palavras com base nas notícias pesquisadas. Ao pesquisar a palavra EAJ em https://ufrn.br/imprensa/noticias/filtros?text=eaj, temos atualmente (13.02.2021) 133 resultados, com vários assuntos relacionados à EAJ. Desejamos ver que termos se destacam nestes anos de publicações (identifique o intervalo da mais antiga para a mais nova no próprio resultado da busca) e uma nuvem de palavras é interessante; b) para cada notícia, guarde o ano de publicação, para uma simples verificação (por gráfico de barras com o matplotlib) da quantidade de notícias por ano."
   ]
  },
  {
   "cell_type": "code",
   "execution_count": 58,
   "id": "democratic-camping",
   "metadata": {},
   "outputs": [
    {
     "name": "stdout",
     "output_type": "stream",
     "text": [
      "Raspagem de dados finalizada\n"
     ]
    }
   ],
   "source": [
    "import time\n",
    "import requests\n",
    "from bs4 import BeautifulSoup as soup\n",
    "from selenium import webdriver\n",
    "\n",
    "# Fazer a raspagem dos dados\n",
    "driver = webdriver.Firefox()\n",
    "driver.get('https://ufrn.br/imprensa/noticias/filtros?text=eaj')\n",
    "\n",
    "def numero_paginas(numero_noticias):\n",
    "    return round((int(numero_noticias)/10)+1)\n",
    "\n",
    "title = ''\n",
    "\n",
    "# tempo para página carregar\n",
    "time.sleep(15)\n",
    "\n",
    "try:\n",
    "    noticias = []\n",
    "    datas = []\n",
    "    \n",
    "    #Pegando noticias\n",
    "    for pagina in range(13):\n",
    "        body = driver.find_element_by_tag_name('body')\n",
    "        html = body.get_attribute('innerHTML')\n",
    "        soupPage = soup(html, 'html5lib')\n",
    "        noticiasList = soupPage.findAll( \"a\", class_='blue-link')\n",
    "\n",
    "        datasList = soupPage.findAll(\"div\", class_='block-title')\n",
    "        \n",
    "        for i in range(len(datasList)):\n",
    "            datas.append(datasList[i].findChild().get_text())\n",
    "    \n",
    "        for i in range(2,len(noticiasList)):\n",
    "            title = 'https://ufrn.br/' + noticiasList[i].get('href') + \"\\n\"\n",
    "            noticias.append(title)\n",
    "           \n",
    "        driver.find_element_by_xpath(\"//a[contains(text(),'>')]\").click()        \n",
    "        time.sleep(2)\n",
    "\n",
    "except Exception as e:\n",
    "    print(e)\n",
    "\n",
    "print('Raspagem de dados finalizada')\n",
    "driver.close()"
   ]
  },
  {
   "cell_type": "code",
   "execution_count": 51,
   "id": "threatened-group",
   "metadata": {},
   "outputs": [
    {
     "name": "stdout",
     "output_type": "stream",
     "text": [
      "Raspagem de dados finalizada\n"
     ]
    }
   ],
   "source": [
    "# Fazer a raspagem dos dados\n",
    "driver = webdriver.Firefox()\n",
    "texto = \"\"\n",
    "\n",
    "try:\n",
    "    #Pegando texto da noticias\n",
    "    for n in range(len(noticias)):\n",
    "        driver.get(noticias[n])\n",
    "        body = driver.find_element_by_tag_name('body')\n",
    "        html = body.get_attribute('innerHTML')\n",
    "        soupPage = soup(html, 'html5lib')\n",
    "        paragrafos = soupPage.findAll(\"span\", style=\"font-weight: 400;\")\n",
    "        \n",
    "        for i in range(len(paragrafos)):\n",
    "            texto += \" \"+paragrafos[i].text\n",
    "        time.sleep(2)\n",
    "\n",
    "except Exception as e:\n",
    "    print(e)\n",
    "\n",
    "print('Raspagem de dados finalizada')\n",
    "driver.close()"
   ]
  },
  {
   "cell_type": "code",
   "execution_count": 102,
   "id": "everyday-backing",
   "metadata": {
    "scrolled": true
   },
   "outputs": [
    {
     "name": "stdout",
     "output_type": "stream",
     "text": [
      "['2016' '2017' '2018' '2019' '2020' '2021']\n",
      "[ 7 27 20 29 31  8]\n"
     ]
    }
   ],
   "source": [
    "import numpy as np\n",
    "\n",
    "datas_noticias = []\n",
    "d = []\n",
    "\n",
    "# #Tratar datas\n",
    "for i in range(len(datas)): \n",
    "    d = datas[i].split(\" \")\n",
    "    datas_noticias.append(d[4])\n",
    "\n",
    "anos, cont = np.unique(datas_noticias, return_counts=True)"
   ]
  },
  {
   "cell_type": "markdown",
   "id": "italic-moral",
   "metadata": {},
   "source": [
    "## Visualização da quantidade de notícias por ano"
   ]
  },
  {
   "cell_type": "code",
   "execution_count": 107,
   "id": "confused-cleaners",
   "metadata": {},
   "outputs": [
    {
     "data": {
      "image/png": "[encoded data removed]",
      "text/plain": [
       "<Figure size 432x288 with 1 Axes>"
      ]
     },
     "metadata": {
      "needs_background": "light"
     },
     "output_type": "display_data"
    }
   ],
   "source": [
    "import matplotlib.pyplot as plt\n",
    "plt.bar(anos, cont)\n",
    "plt.show()"
   ]
  },
  {
   "cell_type": "code",
   "execution_count": 105,
   "id": "documented-driving",
   "metadata": {},
   "outputs": [],
   "source": [
    "import pandas as pd\n",
    "import numpy as np\n",
    "import matplotlib.pyplot as plt\n",
    "from PIL import Image\n",
    "from wordcloud import WordCloud, STOPWORDS\n",
    "from nltk.corpus import stopwords\n",
    "from string import punctuation\n",
    "\n",
    "\n",
    "STOPWORDS=set(stopwords.words('portuguese') + list(punctuation))\n",
    "\n",
    "def create_word_cloud(string):\n",
    "   maskArray = np.array(Image.open(\"../assets/cloud.jpg\"))\n",
    "   cloud = WordCloud(background_color = \"white\", max_font_size=50, max_words = 200, mask = maskArray, stopwords = STOPWORDS)\n",
    "   cloud.generate(string)\n",
    "   cloud.to_file(\"wordCloud.png\")\n",
    "   plt.figure()\n",
    "   plt.imshow(cloud, interpolation='bilinear')\n",
    "   plt.axis('off')"
   ]
  },
  {
   "cell_type": "markdown",
   "id": "animated-drove",
   "metadata": {},
   "source": [
    "## Visualização dos termos que se destacam nestes anos de publicações"
   ]
  },
  {
   "cell_type": "code",
   "execution_count": 106,
   "id": "incomplete-routine",
   "metadata": {},
   "outputs": [
    {
     "data": {
      "image/png": "[encoded data removed]",
      "text/plain": [
       "<Figure size 432x288 with 1 Axes>"
      ]
     },
     "metadata": {
      "needs_background": "light"
     },
     "output_type": "display_data"
    }
   ],
   "source": [
    "create_word_cloud(texto)"
   ]
  }
 ],
 "metadata": {
  "kernelspec": {
   "display_name": "Python 3",
   "language": "python",
   "name": "python3"
  },
  "language_info": {
   "codemirror_mode": {
    "name": "ipython",
    "version": 3
   },
   "file_extension": ".py",
   "mimetype": "text/x-python",
   "name": "python",
   "nbconvert_exporter": "python",
   "pygments_lexer": "ipython3",
   "version": "3.9.1"
  }
 },
 "nbformat": 4,
 "nbformat_minor": 5
}
