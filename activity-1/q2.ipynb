{
 "cells": [
  {
   "cell_type": "markdown",
   "id": "acute-scottish",
   "metadata": {},
   "source": [
    "# EXERCÍCIO 2"
   ]
  },
  {
   "cell_type": "markdown",
   "id": "better-portrait",
   "metadata": {},
   "source": [
    "E se, além da sena, desejo o resultado da quina e da quadra. O ideal é uma função ampliada que retorne, para cada tipo de prêmio, a quantidade de ganhadores e o valor do prêmio dividido. Antes de desenvolver a função, esboce em sites de formatação JSON como seria este dicionário, o qual será montado dentro de sua função. Aqui, métodos de string como startswith, strip e split serão úteis."
   ]
  },
  {
   "cell_type": "code",
   "execution_count": 5,
   "id": "ranking-touch",
   "metadata": {},
   "outputs": [
    {
     "name": "stdout",
     "output_type": "stream",
     "text": [
      "Número do concurso: 2340\n",
      "{'Concurso': '2340', 'Dezenas Sorteadas': [16, 21, 28, 41, 49, 51], 'Sena': {'Quantidade de ganhadores': 0, 'Valor do prêmio dividido': 0.0}, 'Quina': {'Quantidade de ganhadores': 24, 'Valor do prêmio dividido': 93.309}, 'Quadra': {'Quantidade de ganhadores': 2, 'Valor do prêmio dividido': 1.328}}\n",
      "\n",
      "Documento inserido com sucesso...\n"
     ]
    }
   ],
   "source": [
    "import time\n",
    "from selenium import webdriver\n",
    "from bs4 import BeautifulSoup as soup\n",
    "\n",
    "# Pegar número do concurso\n",
    "numConcurso = input(\"Número do concurso: \")\n",
    "\n",
    "# Fazer a raspagem dos dados\n",
    "url = 'https://www.loteriaseresultados.com.br/index.php/megasena/concurso/'+numConcurso\n",
    "driver = webdriver.Firefox()\n",
    "driver.get(url)\n",
    "\n",
    "# tempo para página carregar\n",
    "time.sleep(15)\n",
    "\n",
    "# Pegando valores das dezenas sorteadas\n",
    "content = driver.find_elements_by_css_selector(\"span[class='white--text font-weight-bold']\")\n",
    "valores = []\n",
    "for n in range(6):\n",
    "    valores.insert(n, content[n].get_attribute('innerHTML'))\n",
    "\n",
    "# Pegar os ganhadores\n",
    "content2 = driver.find_elements_by_css_selector(\"td[class='text-center']\")\n",
    "ganhadores = []\n",
    "for n in range(6):\n",
    "    ganhadores.insert(n, content2[n].get_attribute('innerHTML'))\n",
    "\n",
    "#Pegar valor ganho \n",
    "content3 = driver.find_elements_by_css_selector(\"td[class='text-right']\")\n",
    "dinheiro = []\n",
    "for n in range(3):\n",
    "    dinheiro.insert(n, content3[n].get_attribute('innerHTML'))\n",
    "\n",
    "driver.close()\n",
    "\n",
    "qtd = []\n",
    "for i in range(6):\n",
    "    if(i%2):\n",
    "        if(ganhadores[i] == \"Não houve acertador!\"):\n",
    "            qtd.append('0')\n",
    "        else:\n",
    "            qtd.append(ganhadores[i])\n",
    "\n",
    "#Armazenar retorno da função no mongodb\n",
    "from pymongo import MongoClient\n",
    "localConn = MongoClient('mongodb://127.0.0.1:27017')\n",
    "\n",
    "db = localConn.concursos \n",
    "tb = db.megasena \n",
    "\n",
    "#Organizar os dados\n",
    "for j in range(3): qtd[j] = qtd[j].replace(' ganhadores', '')\n",
    "\n",
    "for d in range(3):\n",
    "    if('-' in dinheiro[d]):\n",
    "        dinheiro[d] = '0'\n",
    "    else:\n",
    "        dinheiro[d] = dinheiro[d].replace('R$ ', '')\n",
    "        x = dinheiro[d].split(',')\n",
    "        dinheiro[d] = x[0]\n",
    "\n",
    "for i in range(6): valores[i] = int(valores[i])\n",
    "\n",
    "data = {\n",
    "    'Concurso': numConcurso, \n",
    "    'Dezenas Sorteadas': valores,\n",
    "    'Sena': {\n",
    "        'Quantidade de ganhadores': round(float(qtd[0])),\n",
    "        'Valor do prêmio dividido': float(dinheiro[0])\n",
    "    },\n",
    "    'Quina': {\n",
    "        'Quantidade de ganhadores': round(float(qtd[1])),\n",
    "        'Valor do prêmio dividido': float(dinheiro[1])\n",
    "    },\n",
    "    'Quadra': {\n",
    "        'Quantidade de ganhadores': round(float(qtd[2])),\n",
    "        'Valor do prêmio dividido': float(dinheiro[2])\n",
    "    }\n",
    "}\n",
    "\n",
    "print(data)\n",
    "\n",
    "tb.insert_one(data)\n",
    "print('\\nDocumento inserido com sucesso...')\n",
    "localConn.close()"
   ]
  }
 ],
 "metadata": {
  "kernelspec": {
   "display_name": "Python 3",
   "language": "python",
   "name": "python3"
  },
  "language_info": {
   "codemirror_mode": {
    "name": "ipython",
    "version": 3
   },
   "file_extension": ".py",
   "mimetype": "text/x-python",
   "name": "python",
   "nbconvert_exporter": "python",
   "pygments_lexer": "ipython3",
   "version": "3.9.1"
  }
 },
 "nbformat": 4,
 "nbformat_minor": 5
}
