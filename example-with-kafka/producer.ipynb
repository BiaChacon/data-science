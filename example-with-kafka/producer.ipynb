{
 "cells": [
  {
   "cell_type": "code",
   "execution_count": 1,
   "id": "finished-coach",
   "metadata": {},
   "outputs": [],
   "source": [
    "from datetime import datetime\n",
    "from pytz import timezone\n",
    "from textblob import TextBlob as tb\n",
    "import tweepy\n",
    "from time import sleep\n",
    "from json import dumps\n",
    "from kafka import KafkaProducer"
   ]
  },
  {
   "cell_type": "code",
   "execution_count": 2,
   "id": "micro-circus",
   "metadata": {},
   "outputs": [],
   "source": [
    "consumer_key = 'AbUqRdpKGGPDK4dBvMrRnnUe1'\n",
    "consumer_secret = 'VRo63ZCm0FbG9hHMu64gtbqUEG3TY5oU0uyo59db0wEELijPO4'\n",
    "access_token = '1016827130880118785-Q7YtUpz95w6R829wxa39MtFqC2yPW5'\n",
    "access_token_secret = 'btj6g1NX1OcuqEjTOR5cp2HCzVqu2REmNucMsSAgvJKYu'"
   ]
  },
  {
   "cell_type": "code",
   "execution_count": 3,
   "id": "affecting-chapel",
   "metadata": {},
   "outputs": [],
   "source": [
    "broker = 'localhost:9092'\n",
    "topico = 'dados-tweets'\n",
    "producer = KafkaProducer(bootstrap_servers=[broker],\n",
    "                         value_serializer=lambda x:\n",
    "                         dumps(x).encode('utf-8'))"
   ]
  },
  {
   "cell_type": "code",
   "execution_count": 4,
   "id": "reserved-retrieval",
   "metadata": {},
   "outputs": [],
   "source": [
    "auth = tweepy.OAuthHandler(consumer_key, consumer_secret)\n",
    "auth.set_access_token(access_token, access_token_secret)\n",
    "api = tweepy.API(auth)\n",
    "\n",
    "tweets = api.search('bbb')"
   ]
  },
  {
   "cell_type": "code",
   "execution_count": 6,
   "id": "commercial-reply",
   "metadata": {},
   "outputs": [
    {
     "name": "stdout",
     "output_type": "stream",
     "text": [
      "ウマ娘やるつもりなかったけど流石に気になってきたな\n",
      "@bbb @sinceashley #panelaçoas20h30\n",
      "cansei do bbb por causa da internet pq as pessoas lá dentro tem que ser literalmente perfeita pra vcs coisa que ngm aqui fora é......\n",
      "@Nynitekat I’m serious 😭😭😭😭\n",
      "RT @leonardotorres: Você pode admitir que seu ídolo / seu favorito no BBB / seu amigo / qualquer pessoa querida ERROU, e ainda assim contin…\n",
      "tenho #rosmello #followtrick #bbtvi #BBB21 #BBB2021 #BBB https://t.co/4vRTSr9Z7z https://t.co/QheS3wvpid\n",
      "alguem sabe dizer se ja criaram outro gp do bbb ne telegram? se tiverem criado me mandem o link pf 🙏🏻\n",
      "RT @bicmuller: O mínimo que o @bbb tem que fazer hoje é dar uma enquadrada pública nessa mulher \n",
      "Como já fizeram em outras oportunidades qu…\n",
      "BBBおとなしくしな！ https://t.co/LLH0c467WT\n",
      "RT @NovaMulher1: A história de Carla Diaz com Arhur, no BBB 21, nos mostra a importância das amigas em momentos que estamos vulneráveis.…\n",
      "TIME SHADOW TIME PERSONA POG TIME EGO tiago reis lana is coming #nct #wayv #BBB #BBB21 #rosmellos #bbtvi… https://t.co/B8thiSYF3O\n",
      "RT @paty_becca: Gente e o @Fiuk que organizou todo o quarto do líder ao deixar o quarto, quem tem educação, criação tem tudo né, achei lind…\n",
      "eu achei q no bbb tinha mais de um banheiro kkkk é só 1 para 20 pessoas?\n",
      "Ze zei dat links vroeger voor de armen was en nu voor de elite en de tafel was stil! #BBB #jinek\n",
      "bissexual q vai ficar fora dessa discussão do bbb justamente pq é bifobica\n",
      "\n",
      "sim   eu existo\n"
     ]
    }
   ],
   "source": [
    "for tweet in tweets:\n",
    "    frase = str(tb(tweet.text))\n",
    "    data_e_hora_completa = datetime.now()\n",
    "    data_string = data_e_hora_completa.strftime('%Y-%m-%d %H:%M:%S')\n",
    "    dados = {\"tweet\": frase, \"horario\": data_string}\n",
    "    producer.send(topico, value=dados)\n",
    "    print(frase)\n",
    "    producer.send(topico, value=dados)\n",
    "    sleep(1)"
   ]
  }
 ],
 "metadata": {
  "kernelspec": {
   "display_name": "Python 3",
   "language": "python",
   "name": "python3"
  },
  "language_info": {
   "codemirror_mode": {
    "name": "ipython",
    "version": 3
   },
   "file_extension": ".py",
   "mimetype": "text/x-python",
   "name": "python",
   "nbconvert_exporter": "python",
   "pygments_lexer": "ipython3",
   "version": "3.9.1"
  }
 },
 "nbformat": 4,
 "nbformat_minor": 5
}
